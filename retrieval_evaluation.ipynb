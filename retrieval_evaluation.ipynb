{
 "cells": [
  {
   "cell_type": "markdown",
   "id": "d1ddf4ea",
   "metadata": {},
   "source": [
    "# Evaluation of all trained retrieval models on test dataset of NFCorpus "
   ]
  },
  {
   "cell_type": "code",
   "execution_count": 1,
   "id": "2f6a4f97",
   "metadata": {},
   "outputs": [
    {
     "name": "stderr",
     "output_type": "stream",
     "text": [
      "/usr/lib/python3/dist-packages/requests/__init__.py:89: RequestsDependencyWarning: urllib3 (1.26.12) or chardet (3.0.4) doesn't match a supported version!\n",
      "  warnings.warn(\"urllib3 ({}) or chardet ({}) doesn't match a supported \"\n",
      "2022-11-08 11:19:36.746516: I tensorflow/core/platform/cpu_feature_guard.cc:193] This TensorFlow binary is optimized with oneAPI Deep Neural Network Library (oneDNN) to use the following CPU instructions in performance-critical operations:  AVX2 AVX512F FMA\n",
      "To enable them in other operations, rebuild TensorFlow with the appropriate compiler flags.\n",
      "2022-11-08 11:19:36.953895: E tensorflow/stream_executor/cuda/cuda_blas.cc:2981] Unable to register cuBLAS factory: Attempting to register factory for plugin cuBLAS when one has already been registered\n"
     ]
    }
   ],
   "source": [
    "import torch\n",
    "import math\n",
    "import random\n",
    "from transformers import AutoTokenizer, AutoModel\n",
    "import numpy as np\n",
    "import regex as re\n",
    "from torch.utils.data import DataLoader, Dataset\n",
    "import torch.nn as nn\n",
    "from tqdm import tqdm\n",
    "import torch.utils.checkpoint as checkpoint\n",
    "from collections import defaultdict\n",
    "from ir_evaluation.effectiveness import effectiveness\n",
    "import faiss\n",
    "import pandas as pd\n",
    "import json\n",
    "import pytrec_eval\n",
    "import matplotlib.pyplot as plt "
   ]
  },
  {
   "cell_type": "code",
   "execution_count": 6,
   "id": "17243cc9",
   "metadata": {},
   "outputs": [
    {
     "data": {
      "text/html": [
       "<div>\n",
       "<style scoped>\n",
       "    .dataframe tbody tr th:only-of-type {\n",
       "        vertical-align: middle;\n",
       "    }\n",
       "\n",
       "    .dataframe tbody tr th {\n",
       "        vertical-align: top;\n",
       "    }\n",
       "\n",
       "    .dataframe thead th {\n",
       "        text-align: right;\n",
       "    }\n",
       "</style>\n",
       "<table border=\"1\" class=\"dataframe\">\n",
       "  <thead>\n",
       "    <tr style=\"text-align: right;\">\n",
       "      <th></th>\n",
       "      <th>_id</th>\n",
       "      <th>title</th>\n",
       "      <th>text</th>\n",
       "      <th>metadata</th>\n",
       "    </tr>\n",
       "  </thead>\n",
       "  <tbody>\n",
       "    <tr>\n",
       "      <th>0</th>\n",
       "      <td>MED-10</td>\n",
       "      <td>Statin Use and Breast Cancer Survival: A Natio...</td>\n",
       "      <td>Recent studies have suggested that statins, an...</td>\n",
       "      <td>{'url': 'http://www.ncbi.nlm.nih.gov/pubmed/25...</td>\n",
       "    </tr>\n",
       "    <tr>\n",
       "      <th>1</th>\n",
       "      <td>MED-14</td>\n",
       "      <td>Statin use after diagnosis of breast cancer an...</td>\n",
       "      <td>BACKGROUND: Preclinical studies have shown tha...</td>\n",
       "      <td>{'url': 'http://www.ncbi.nlm.nih.gov/pubmed/25...</td>\n",
       "    </tr>\n",
       "    <tr>\n",
       "      <th>2</th>\n",
       "      <td>MED-118</td>\n",
       "      <td>Alkylphenols in human milk and their relations...</td>\n",
       "      <td>The aims of this study were to determine the c...</td>\n",
       "      <td>{'url': 'http://www.ncbi.nlm.nih.gov/pubmed/20...</td>\n",
       "    </tr>\n",
       "    <tr>\n",
       "      <th>3</th>\n",
       "      <td>MED-301</td>\n",
       "      <td>Methylmercury: A Potential Environmental Risk ...</td>\n",
       "      <td>Epilepsy or seizure disorder is one of the mos...</td>\n",
       "      <td>{'url': 'http://www.ncbi.nlm.nih.gov/pubmed/22...</td>\n",
       "    </tr>\n",
       "    <tr>\n",
       "      <th>4</th>\n",
       "      <td>MED-306</td>\n",
       "      <td>Sensitivity of Continuous Performance Test (CP...</td>\n",
       "      <td>Hit Reaction Time latencies (HRT) in the Conti...</td>\n",
       "      <td>{'url': 'http://www.ncbi.nlm.nih.gov/pubmed/20...</td>\n",
       "    </tr>\n",
       "    <tr>\n",
       "      <th>...</th>\n",
       "      <td>...</td>\n",
       "      <td>...</td>\n",
       "      <td>...</td>\n",
       "      <td>...</td>\n",
       "    </tr>\n",
       "    <tr>\n",
       "      <th>3628</th>\n",
       "      <td>MED-917</td>\n",
       "      <td>Effect of freezing and storage on the phenolic...</td>\n",
       "      <td>Scottish-grown red raspberries are a rich sour...</td>\n",
       "      <td>{'url': 'http://www.ncbi.nlm.nih.gov/pubmed/12...</td>\n",
       "    </tr>\n",
       "    <tr>\n",
       "      <th>3629</th>\n",
       "      <td>MED-941</td>\n",
       "      <td>Topical vitamin A treatment of recalcitrant co...</td>\n",
       "      <td>BACKGROUND: Common warts (verruca vulgaris) ar...</td>\n",
       "      <td>{'url': 'http://www.ncbi.nlm.nih.gov/pubmed?te...</td>\n",
       "    </tr>\n",
       "    <tr>\n",
       "      <th>3630</th>\n",
       "      <td>MED-942</td>\n",
       "      <td>Esophageal injury by apple cider vinegar table...</td>\n",
       "      <td>Apple cider vinegar products are advertised in...</td>\n",
       "      <td>{'url': 'http://www.ncbi.nlm.nih.gov/pubmed/15...</td>\n",
       "    </tr>\n",
       "    <tr>\n",
       "      <th>3631</th>\n",
       "      <td>MED-952</td>\n",
       "      <td>Cannabis and the lung.</td>\n",
       "      <td>The use of cannabis is embedded within many so...</td>\n",
       "      <td>{'url': 'http://www.ncbi.nlm.nih.gov/pubmed/21...</td>\n",
       "    </tr>\n",
       "    <tr>\n",
       "      <th>3632</th>\n",
       "      <td>MED-961</td>\n",
       "      <td>Vitamin D(3) is more potent than vitamin D(2) ...</td>\n",
       "      <td>BACKGROUND: Current unitage for the calciferol...</td>\n",
       "      <td>{'url': 'http://www.ncbi.nlm.nih.gov/pubmed/21...</td>\n",
       "    </tr>\n",
       "  </tbody>\n",
       "</table>\n",
       "<p>3633 rows × 4 columns</p>\n",
       "</div>"
      ],
      "text/plain": [
       "          _id                                              title  \\\n",
       "0      MED-10  Statin Use and Breast Cancer Survival: A Natio...   \n",
       "1      MED-14  Statin use after diagnosis of breast cancer an...   \n",
       "2     MED-118  Alkylphenols in human milk and their relations...   \n",
       "3     MED-301  Methylmercury: A Potential Environmental Risk ...   \n",
       "4     MED-306  Sensitivity of Continuous Performance Test (CP...   \n",
       "...       ...                                                ...   \n",
       "3628  MED-917  Effect of freezing and storage on the phenolic...   \n",
       "3629  MED-941  Topical vitamin A treatment of recalcitrant co...   \n",
       "3630  MED-942  Esophageal injury by apple cider vinegar table...   \n",
       "3631  MED-952                             Cannabis and the lung.   \n",
       "3632  MED-961  Vitamin D(3) is more potent than vitamin D(2) ...   \n",
       "\n",
       "                                                   text  \\\n",
       "0     Recent studies have suggested that statins, an...   \n",
       "1     BACKGROUND: Preclinical studies have shown tha...   \n",
       "2     The aims of this study were to determine the c...   \n",
       "3     Epilepsy or seizure disorder is one of the mos...   \n",
       "4     Hit Reaction Time latencies (HRT) in the Conti...   \n",
       "...                                                 ...   \n",
       "3628  Scottish-grown red raspberries are a rich sour...   \n",
       "3629  BACKGROUND: Common warts (verruca vulgaris) ar...   \n",
       "3630  Apple cider vinegar products are advertised in...   \n",
       "3631  The use of cannabis is embedded within many so...   \n",
       "3632  BACKGROUND: Current unitage for the calciferol...   \n",
       "\n",
       "                                               metadata  \n",
       "0     {'url': 'http://www.ncbi.nlm.nih.gov/pubmed/25...  \n",
       "1     {'url': 'http://www.ncbi.nlm.nih.gov/pubmed/25...  \n",
       "2     {'url': 'http://www.ncbi.nlm.nih.gov/pubmed/20...  \n",
       "3     {'url': 'http://www.ncbi.nlm.nih.gov/pubmed/22...  \n",
       "4     {'url': 'http://www.ncbi.nlm.nih.gov/pubmed/20...  \n",
       "...                                                 ...  \n",
       "3628  {'url': 'http://www.ncbi.nlm.nih.gov/pubmed/12...  \n",
       "3629  {'url': 'http://www.ncbi.nlm.nih.gov/pubmed?te...  \n",
       "3630  {'url': 'http://www.ncbi.nlm.nih.gov/pubmed/15...  \n",
       "3631  {'url': 'http://www.ncbi.nlm.nih.gov/pubmed/21...  \n",
       "3632  {'url': 'http://www.ncbi.nlm.nih.gov/pubmed/21...  \n",
       "\n",
       "[3633 rows x 4 columns]"
      ]
     },
     "execution_count": 6,
     "metadata": {},
     "output_type": "execute_result"
    }
   ],
   "source": [
    "# Read corpus\n",
    "df_corpus = pd.read_json('nfcorpus/corpus.jsonl', lines=True)\n",
    "df_corpus"
   ]
  },
  {
   "cell_type": "code",
   "execution_count": 7,
   "id": "e9ac745b",
   "metadata": {},
   "outputs": [],
   "source": [
    "doc_id_to_idx = {}\n",
    "for idx, row in df_corpus.iterrows():\n",
    "    doc_id = row['_id']\n",
    "    doc_id_to_idx[doc_id] = idx"
   ]
  },
  {
   "cell_type": "code",
   "execution_count": 8,
   "id": "fab80089",
   "metadata": {},
   "outputs": [
    {
     "data": {
      "text/html": [
       "<div>\n",
       "<style scoped>\n",
       "    .dataframe tbody tr th:only-of-type {\n",
       "        vertical-align: middle;\n",
       "    }\n",
       "\n",
       "    .dataframe tbody tr th {\n",
       "        vertical-align: top;\n",
       "    }\n",
       "\n",
       "    .dataframe thead th {\n",
       "        text-align: right;\n",
       "    }\n",
       "</style>\n",
       "<table border=\"1\" class=\"dataframe\">\n",
       "  <thead>\n",
       "    <tr style=\"text-align: right;\">\n",
       "      <th></th>\n",
       "      <th>_id</th>\n",
       "      <th>text</th>\n",
       "      <th>metadata</th>\n",
       "    </tr>\n",
       "  </thead>\n",
       "  <tbody>\n",
       "    <tr>\n",
       "      <th>0</th>\n",
       "      <td>PLAIN-3</td>\n",
       "      <td>Breast Cancer Cells Feed on Cholesterol</td>\n",
       "      <td>{'url': 'http://nutritionfacts.org/2015/07/14/...</td>\n",
       "    </tr>\n",
       "    <tr>\n",
       "      <th>1</th>\n",
       "      <td>PLAIN-4</td>\n",
       "      <td>Using Diet to Treat Asthma and Eczema</td>\n",
       "      <td>{'url': 'http://nutritionfacts.org/2015/07/09/...</td>\n",
       "    </tr>\n",
       "    <tr>\n",
       "      <th>2</th>\n",
       "      <td>PLAIN-5</td>\n",
       "      <td>Treating Asthma With Plants vs. Pills</td>\n",
       "      <td>{'url': 'http://nutritionfacts.org/2015/07/07/...</td>\n",
       "    </tr>\n",
       "    <tr>\n",
       "      <th>3</th>\n",
       "      <td>PLAIN-6</td>\n",
       "      <td>How Fruits and Vegetables Can Treat Asthma</td>\n",
       "      <td>{'url': 'http://nutritionfacts.org/2015/07/02/...</td>\n",
       "    </tr>\n",
       "    <tr>\n",
       "      <th>4</th>\n",
       "      <td>PLAIN-7</td>\n",
       "      <td>How Fruits and Vegetables Can Prevent Asthma</td>\n",
       "      <td>{'url': 'http://nutritionfacts.org/2015/06/30/...</td>\n",
       "    </tr>\n",
       "    <tr>\n",
       "      <th>...</th>\n",
       "      <td>...</td>\n",
       "      <td>...</td>\n",
       "      <td>...</td>\n",
       "    </tr>\n",
       "    <tr>\n",
       "      <th>3232</th>\n",
       "      <td>PLAIN-3432</td>\n",
       "      <td>Healthy Chocolate Milkshakes</td>\n",
       "      <td>{'url': 'http://nutritionfacts.org/video/healt...</td>\n",
       "    </tr>\n",
       "    <tr>\n",
       "      <th>3233</th>\n",
       "      <td>PLAIN-3442</td>\n",
       "      <td>The Healthiest Vegetables</td>\n",
       "      <td>{'url': 'http://nutritionfacts.org/video/the-h...</td>\n",
       "    </tr>\n",
       "    <tr>\n",
       "      <th>3234</th>\n",
       "      <td>PLAIN-3452</td>\n",
       "      <td>Bowel Movement Frequency</td>\n",
       "      <td>{'url': 'http://nutritionfacts.org/video/bowel...</td>\n",
       "    </tr>\n",
       "    <tr>\n",
       "      <th>3235</th>\n",
       "      <td>PLAIN-3462</td>\n",
       "      <td>Olive Oil and Artery Function</td>\n",
       "      <td>{'url': 'http://nutritionfacts.org/video/olive...</td>\n",
       "    </tr>\n",
       "    <tr>\n",
       "      <th>3236</th>\n",
       "      <td>PLAIN-3472</td>\n",
       "      <td>How Doctors Responded to Being Named a Leading...</td>\n",
       "      <td>{'url': 'http://nutritionfacts.org/video/how-d...</td>\n",
       "    </tr>\n",
       "  </tbody>\n",
       "</table>\n",
       "<p>3237 rows × 3 columns</p>\n",
       "</div>"
      ],
      "text/plain": [
       "             _id                                               text  \\\n",
       "0        PLAIN-3            Breast Cancer Cells Feed on Cholesterol   \n",
       "1        PLAIN-4              Using Diet to Treat Asthma and Eczema   \n",
       "2        PLAIN-5              Treating Asthma With Plants vs. Pills   \n",
       "3        PLAIN-6         How Fruits and Vegetables Can Treat Asthma   \n",
       "4        PLAIN-7       How Fruits and Vegetables Can Prevent Asthma   \n",
       "...          ...                                                ...   \n",
       "3232  PLAIN-3432                       Healthy Chocolate Milkshakes   \n",
       "3233  PLAIN-3442                          The Healthiest Vegetables   \n",
       "3234  PLAIN-3452                           Bowel Movement Frequency   \n",
       "3235  PLAIN-3462                      Olive Oil and Artery Function   \n",
       "3236  PLAIN-3472  How Doctors Responded to Being Named a Leading...   \n",
       "\n",
       "                                               metadata  \n",
       "0     {'url': 'http://nutritionfacts.org/2015/07/14/...  \n",
       "1     {'url': 'http://nutritionfacts.org/2015/07/09/...  \n",
       "2     {'url': 'http://nutritionfacts.org/2015/07/07/...  \n",
       "3     {'url': 'http://nutritionfacts.org/2015/07/02/...  \n",
       "4     {'url': 'http://nutritionfacts.org/2015/06/30/...  \n",
       "...                                                 ...  \n",
       "3232  {'url': 'http://nutritionfacts.org/video/healt...  \n",
       "3233  {'url': 'http://nutritionfacts.org/video/the-h...  \n",
       "3234  {'url': 'http://nutritionfacts.org/video/bowel...  \n",
       "3235  {'url': 'http://nutritionfacts.org/video/olive...  \n",
       "3236  {'url': 'http://nutritionfacts.org/video/how-d...  \n",
       "\n",
       "[3237 rows x 3 columns]"
      ]
     },
     "execution_count": 8,
     "metadata": {},
     "output_type": "execute_result"
    }
   ],
   "source": [
    "# Read corpus\n",
    "df_queries = pd.read_json('nfcorpus/queries.jsonl', lines=True)\n",
    "df_queries"
   ]
  },
  {
   "cell_type": "code",
   "execution_count": 9,
   "id": "7142f5b2",
   "metadata": {},
   "outputs": [],
   "source": [
    "query_id_to_idx = {}\n",
    "for idx, row in df_queries.iterrows():\n",
    "    query_id = row['_id']\n",
    "    query_id_to_idx[query_id] = idx"
   ]
  },
  {
   "cell_type": "code",
   "execution_count": 10,
   "id": "1eee74ff",
   "metadata": {},
   "outputs": [
    {
     "data": {
      "text/html": [
       "<div>\n",
       "<style scoped>\n",
       "    .dataframe tbody tr th:only-of-type {\n",
       "        vertical-align: middle;\n",
       "    }\n",
       "\n",
       "    .dataframe tbody tr th {\n",
       "        vertical-align: top;\n",
       "    }\n",
       "\n",
       "    .dataframe thead th {\n",
       "        text-align: right;\n",
       "    }\n",
       "</style>\n",
       "<table border=\"1\" class=\"dataframe\">\n",
       "  <thead>\n",
       "    <tr style=\"text-align: right;\">\n",
       "      <th></th>\n",
       "      <th>query-id</th>\n",
       "      <th>corpus-id</th>\n",
       "      <th>score</th>\n",
       "    </tr>\n",
       "  </thead>\n",
       "  <tbody>\n",
       "    <tr>\n",
       "      <th>0</th>\n",
       "      <td>PLAIN-2</td>\n",
       "      <td>MED-2427</td>\n",
       "      <td>2</td>\n",
       "    </tr>\n",
       "    <tr>\n",
       "      <th>1</th>\n",
       "      <td>PLAIN-2</td>\n",
       "      <td>MED-10</td>\n",
       "      <td>2</td>\n",
       "    </tr>\n",
       "    <tr>\n",
       "      <th>2</th>\n",
       "      <td>PLAIN-2</td>\n",
       "      <td>MED-2429</td>\n",
       "      <td>2</td>\n",
       "    </tr>\n",
       "    <tr>\n",
       "      <th>3</th>\n",
       "      <td>PLAIN-2</td>\n",
       "      <td>MED-2430</td>\n",
       "      <td>2</td>\n",
       "    </tr>\n",
       "    <tr>\n",
       "      <th>4</th>\n",
       "      <td>PLAIN-2</td>\n",
       "      <td>MED-2431</td>\n",
       "      <td>2</td>\n",
       "    </tr>\n",
       "    <tr>\n",
       "      <th>...</th>\n",
       "      <td>...</td>\n",
       "      <td>...</td>\n",
       "      <td>...</td>\n",
       "    </tr>\n",
       "    <tr>\n",
       "      <th>12329</th>\n",
       "      <td>PLAIN-3472</td>\n",
       "      <td>MED-3623</td>\n",
       "      <td>1</td>\n",
       "    </tr>\n",
       "    <tr>\n",
       "      <th>12330</th>\n",
       "      <td>PLAIN-3472</td>\n",
       "      <td>MED-3624</td>\n",
       "      <td>1</td>\n",
       "    </tr>\n",
       "    <tr>\n",
       "      <th>12331</th>\n",
       "      <td>PLAIN-3472</td>\n",
       "      <td>MED-3625</td>\n",
       "      <td>1</td>\n",
       "    </tr>\n",
       "    <tr>\n",
       "      <th>12332</th>\n",
       "      <td>PLAIN-3472</td>\n",
       "      <td>MED-3626</td>\n",
       "      <td>1</td>\n",
       "    </tr>\n",
       "    <tr>\n",
       "      <th>12333</th>\n",
       "      <td>PLAIN-3472</td>\n",
       "      <td>MED-3627</td>\n",
       "      <td>1</td>\n",
       "    </tr>\n",
       "  </tbody>\n",
       "</table>\n",
       "<p>12334 rows × 3 columns</p>\n",
       "</div>"
      ],
      "text/plain": [
       "         query-id corpus-id  score\n",
       "0         PLAIN-2  MED-2427      2\n",
       "1         PLAIN-2    MED-10      2\n",
       "2         PLAIN-2  MED-2429      2\n",
       "3         PLAIN-2  MED-2430      2\n",
       "4         PLAIN-2  MED-2431      2\n",
       "...           ...       ...    ...\n",
       "12329  PLAIN-3472  MED-3623      1\n",
       "12330  PLAIN-3472  MED-3624      1\n",
       "12331  PLAIN-3472  MED-3625      1\n",
       "12332  PLAIN-3472  MED-3626      1\n",
       "12333  PLAIN-3472  MED-3627      1\n",
       "\n",
       "[12334 rows x 3 columns]"
      ]
     },
     "execution_count": 10,
     "metadata": {},
     "output_type": "execute_result"
    }
   ],
   "source": [
    "# Read qrels\n",
    "path = f'nfcorpus/qrels/test.tsv'\n",
    "df_test = pd.read_csv(path, sep='\\t')\n",
    "df_test"
   ]
  },
  {
   "cell_type": "code",
   "execution_count": 11,
   "id": "095e901f",
   "metadata": {},
   "outputs": [],
   "source": [
    "queries = []\n",
    "query_ids = []\n",
    "st = set()\n",
    "for _, row in df_test.iterrows():\n",
    "    query_id = row['query-id']\n",
    "    if query_id not in st:\n",
    "        idx = query_id_to_idx[query_id]\n",
    "        query_ids.append(query_id)\n",
    "        queries.append(df_queries.iloc[idx]['text'])\n",
    "        st.add(query_id)"
   ]
  },
  {
   "cell_type": "code",
   "execution_count": 12,
   "id": "b422ec01",
   "metadata": {},
   "outputs": [
    {
     "name": "stdout",
     "output_type": "stream",
     "text": [
      "['PLAIN-2', 'PLAIN-12', 'PLAIN-23', 'PLAIN-33', 'PLAIN-44']\n"
     ]
    }
   ],
   "source": [
    "print(query_ids[:5])"
   ]
  },
  {
   "cell_type": "code",
   "execution_count": 13,
   "id": "d7cdf60a",
   "metadata": {},
   "outputs": [
    {
     "name": "stdout",
     "output_type": "stream",
     "text": [
      "['Do Cholesterol Statin Drugs Cause Breast Cancer?', 'Exploiting Autophagy to Live Longer', 'How to Reduce Exposure to Alkylphenols Through Your Diet', 'What’s Driving America’s Obesity Problem?', 'Who Should be Careful About Curcumin?']\n"
     ]
    }
   ],
   "source": [
    "print(queries[:5])"
   ]
  },
  {
   "cell_type": "code",
   "execution_count": 14,
   "id": "570be063",
   "metadata": {},
   "outputs": [],
   "source": [
    "class RetrieverModelBertBased(nn.Module):\n",
    "    '''\n",
    "    Model architecture class for retrieval models containing an encoder whose inner working is similar to BERT\n",
    "    '''\n",
    "    def __init__(self, encoder_name, encoder_output_dim=768):\n",
    "        super(RetrieverModelBertBased, self).__init__()\n",
    "        self.encoder = AutoModel.from_pretrained(encoder_name)\n",
    "        self.encoder_output_dim = encoder_output_dim\n",
    "        self.projection_output_dim = 128\n",
    "        self.query_projection_layer = nn.Linear(self.encoder_output_dim, self.projection_output_dim, bias=False)\n",
    "        self.doc_projection_layer = nn.Linear(self.encoder_output_dim, self.projection_output_dim, bias=False)\n",
    "        self.cross_entropy_loss = nn.CrossEntropyLoss(reduction=\"mean\")\n",
    "\n",
    "    def encode(self, input_ids, attention_mask, checkpoint_batch_size):\n",
    "        if checkpoint_batch_size == None or input_ids.shape[0] < checkpoint_batch_size:\n",
    "            return self.encoder(input_ids, attention_mask)['pooler_output']\n",
    "\n",
    "        device = input_ids.device\n",
    "        input_shape = input_ids.size()\n",
    "        token_type_ids = torch.zeros(input_shape, dtype=torch.long, device=device)\n",
    "        head_mask = [None] * self.encoder.config.num_hidden_layers\n",
    "        extended_attention_mask: torch.Tensor = self.encoder.get_extended_attention_mask(\n",
    "            attention_mask, input_shape, device\n",
    "        )\n",
    "\n",
    "        def partial_encode(*inputs):\n",
    "            encoder_outputs = self.encoder.encoder(inputs[0], attention_mask=inputs[1], head_mask=head_mask,)\n",
    "            sequence_output = encoder_outputs[0]\n",
    "            pooled_output = self.encoder.pooler(sequence_output)\n",
    "            return pooled_output\n",
    "\n",
    "        embedding_output = self.encoder.embeddings(\n",
    "            input_ids=input_ids, position_ids=None, token_type_ids=token_type_ids, inputs_embeds=None\n",
    "        )\n",
    "\n",
    "        pooled_output_list = []\n",
    "        for b in range(math.ceil(input_ids.shape[0] / checkpoint_batch_size)):\n",
    "            b_embedding_output = embedding_output[b * checkpoint_batch_size : (b + 1) * checkpoint_batch_size]\n",
    "            b_attention_mask = extended_attention_mask[b * checkpoint_batch_size : (b + 1) * checkpoint_batch_size]\n",
    "            pooled_output = checkpoint.checkpoint(partial_encode, b_embedding_output, b_attention_mask)\n",
    "            pooled_output_list.append(pooled_output)\n",
    "        return torch.cat(pooled_output_list, dim=0)\n",
    "\n",
    "    def project_queries(self, query_ids, query_mask, checkpoint_batch_size):\n",
    "        query_encoding = self.encode(query_ids, query_mask, checkpoint_batch_size)\n",
    "        query_projection = self.query_projection_layer(query_encoding)\n",
    "        return query_projection\n",
    "\n",
    "    def project_docs(self, doc_ids, doc_mask, checkpoint_batch_size):\n",
    "        doc_encoding = self.encode(doc_ids, doc_mask, checkpoint_batch_size)\n",
    "        doc_projection = self.doc_projection_layer(doc_encoding)\n",
    "        return doc_projection\n",
    "\n",
    "    def forward(self, query_ids, query_mask, doc_ids, doc_mask, checkpoint_batch_size):\n",
    "        query_projection = self.project_queries(query_ids, query_mask, checkpoint_batch_size)\n",
    "        doc_projection = self.project_docs(doc_ids, doc_mask, checkpoint_batch_size)\n",
    "        dot_product_scores = torch.mm(query_projection, doc_projection.t())\n",
    "\n",
    "        batch_size = dot_product_scores.shape[0]\n",
    "        labels = torch.arange(batch_size).to(device)\n",
    "        loss1 = self.cross_entropy_loss(dot_product_scores, labels)\n",
    "        loss2 = self.cross_entropy_loss(dot_product_scores.t(), labels)\n",
    "        return (loss1+loss2)/2"
   ]
  },
  {
   "cell_type": "code",
   "execution_count": 15,
   "id": "1bd17a6c",
   "metadata": {},
   "outputs": [],
   "source": [
    "# Retriever model for distillbert based encoder\n",
    "class RetrieverModelDistillBertBased(nn.Module):\n",
    "    '''\n",
    "    Model architecture class for retrieval models containing an encoder whose inner working is similar to DistilBERT\n",
    "    '''\n",
    "    def __init__(self, encoder_name, encoder_output_dim=768):\n",
    "        super(RetrieverModelDistillBertBased, self).__init__()\n",
    "        self.encoder = AutoModel.from_pretrained(encoder_name)\n",
    "        self.encoder_output_dim = encoder_output_dim\n",
    "        self.projection_output_dim = 128\n",
    "        self.query_projection_layer = nn.Linear(self.encoder_output_dim, self.projection_output_dim, bias=False)\n",
    "        self.doc_projection_layer = nn.Linear(self.encoder_output_dim, self.projection_output_dim, bias=False)\n",
    "        self.cross_entropy_loss = nn.CrossEntropyLoss(reduction=\"mean\")\n",
    "\n",
    "    def mean_pooling(self, sequence_output, attn_mask):\n",
    "        input_mask_expanded = attn_mask.unsqueeze(-1).expand(sequence_output.size()).float()\n",
    "        return torch.sum(sequence_output * input_mask_expanded, 1) / torch.clamp(input_mask_expanded.sum(1), min=1e-9)\n",
    "\n",
    "    def encode(self, input_ids, attention_mask, checkpoint_batch_size):\n",
    "        if checkpoint_batch_size == None or input_ids.shape[0] < checkpoint_batch_size:\n",
    "            encoder_outputs = self.encoder(input_ids, attention_mask)\n",
    "            sequence_output = encoder_outputs[0]\n",
    "            pooled_output = self.mean_pooling(sequence_output, attention_mask)\n",
    "            return pooled_output\n",
    "\n",
    "        device = input_ids.device\n",
    "        head_mask = [None] * self.encoder.config.num_hidden_layers\n",
    "\n",
    "        def partial_encode(*inputs):\n",
    "            encoder_outputs = self.encoder.transformer(inputs[0], attn_mask=inputs[1], head_mask=head_mask,)\n",
    "            sequence_output = encoder_outputs[0]\n",
    "            pooled_output = self.mean_pooling(sequence_output, attn_mask=inputs[1])\n",
    "            return pooled_output\n",
    "\n",
    "        embedding_output = self.encoder.embeddings(\n",
    "            input_ids=input_ids\n",
    "        )\n",
    "\n",
    "        pooled_output_list = []\n",
    "        for b in range(math.ceil(input_ids.shape[0] / checkpoint_batch_size)):\n",
    "            b_embedding_output = embedding_output[b * checkpoint_batch_size : (b + 1) * checkpoint_batch_size]\n",
    "            b_attention_mask = attention_mask[b * checkpoint_batch_size : (b + 1) * checkpoint_batch_size]\n",
    "            pooled_output = checkpoint.checkpoint(partial_encode, b_embedding_output, b_attention_mask)\n",
    "            pooled_output_list.append(pooled_output)\n",
    "        return torch.cat(pooled_output_list, dim=0)\n",
    "\n",
    "    def project_queries(self, query_ids, query_mask, checkpoint_batch_size):\n",
    "        query_encoding = self.encode(query_ids, query_mask, checkpoint_batch_size)\n",
    "        query_projection = self.query_projection_layer(query_encoding)\n",
    "        return query_projection\n",
    "\n",
    "    def project_docs(self, doc_ids, doc_mask, checkpoint_batch_size):\n",
    "        doc_encoding = self.encode(doc_ids, doc_mask, checkpoint_batch_size)\n",
    "        doc_projection = self.doc_projection_layer(doc_encoding)\n",
    "        return doc_projection\n",
    "\n",
    "    def forward(self, query_ids, query_mask, doc_ids, doc_mask, checkpoint_batch_size):\n",
    "        query_projection = self.project_queries(query_ids, query_mask, checkpoint_batch_size)\n",
    "        doc_projection = self.project_docs(doc_ids, doc_mask, checkpoint_batch_size)\n",
    "        dot_product_scores = torch.mm(query_projection, doc_projection.t())\n",
    "\n",
    "        batch_size = dot_product_scores.shape[0]\n",
    "        labels = torch.arange(batch_size).to(device)\n",
    "        loss1 = self.cross_entropy_loss(dot_product_scores, labels)\n",
    "        loss2 = self.cross_entropy_loss(dot_product_scores.t(), labels)\n",
    "        return (loss1+loss2)/2"
   ]
  },
  {
   "cell_type": "code",
   "execution_count": 16,
   "id": "1bb1a535",
   "metadata": {},
   "outputs": [],
   "source": [
    "# Utility Functions\n",
    "\n",
    "def get_query_projections(queries, retriever_model, tokenizer, device='cuda:0'):\n",
    "    '''\n",
    "    Compute the query projection vectors for a list of queries using the given retrieval model\n",
    "    '''\n",
    "    \n",
    "    tokenized_queries = tokenizer(queries, max_length = 32, padding='max_length', truncation = True)\n",
    "    query_ids = torch.LongTensor(tokenized_queries[\"input_ids\"]).to(device)\n",
    "    query_mask = torch.LongTensor(tokenized_queries[\"attention_mask\"]).to(device)\n",
    "    \n",
    "    with torch.no_grad():\n",
    "        query_projections = retriever_model.project_queries(query_ids, query_mask, checkpoint_batch_size=None).cpu().type(torch.float)\n",
    "    return query_projections.numpy()\n",
    "\n",
    "def get_doc_projections(docs, retriever_model, tokenizer, device='cuda:0'):\n",
    "    '''\n",
    "    Compute the document projection vectors for a list of queries using the given retrieval model\n",
    "    '''\n",
    "    \n",
    "    tokenized_docs = tokenizer(docs, max_length = 256, padding='max_length', truncation = True)\n",
    "    doc_ids = torch.LongTensor(tokenized_docs[\"input_ids\"]).to(device)\n",
    "    doc_mask = torch.LongTensor(tokenized_docs[\"attention_mask\"]).to(device)\n",
    "    \n",
    "    with torch.no_grad():\n",
    "        doc_projections = retriever_model.project_docs(doc_ids, doc_mask, checkpoint_batch_size=None).cpu().type(torch.float)\n",
    "    return doc_projections.numpy()\n",
    "\n",
    "def create_doc_memmap(docs, filename, retriever_model, tokenizer, device='cuda:0'):\n",
    "    '''\n",
    "    Convert document vectors to numopy memmap\n",
    "    '''\n",
    "    \n",
    "    memmap = np.memmap(filename, dtype='float32', mode='w+', shape=(len(docs), 128))\n",
    "    num_batches = math.ceil(len(docs)/batch_size)\n",
    "\n",
    "    for i in tqdm(range(num_batches), ncols=80):\n",
    "        batch = docs[i*batch_size : (i+1)*batch_size]\n",
    "        memmap[i*batch_size : (i+1)*batch_size] = get_doc_projections(batch, retriever_model, tokenizer, device)\n",
    "\n",
    "def create_faiss_index_from_memmap(filename, num_samples, device):\n",
    "    '''\n",
    "    Create FAISS index\n",
    "    '''\n",
    "    \n",
    "    memmap = np.memmap(filename, dtype='float32', mode='r', shape=(num_samples, 128))\n",
    "\n",
    "    gpu_resources = faiss.StandardGpuResources()\n",
    "    index = faiss.IndexFlatIP(128)\n",
    "    index = faiss.index_cpu_to_gpu(gpu_resources, device, index)\n",
    "    index.add(memmap)\n",
    "    return index\n",
    "\n",
    "def evaluate(query_ids, ranking=None, scores=None, k_vals=[5,10,20], results_file=None):\n",
    "    '''\n",
    "    Evaluation using pytrec_eval\n",
    "    '''\n",
    "    \n",
    "    path = f'nfcorpus/qrels/test.tsv'\n",
    "    df = pd.read_csv(path, sep='\\t')\n",
    "    \n",
    "    qrels = defaultdict(dict)\n",
    "    for _, row in df.iterrows():\n",
    "        query_id, doc_id, score = row['query-id'], row['corpus-id'], row['score']\n",
    "        qrels[query_id][doc_id] = score\n",
    "    \n",
    "    results = defaultdict(dict)\n",
    "    \n",
    "    if results_file is None:\n",
    "        for i in range(len(ranking)):\n",
    "            query_id = query_ids[i]\n",
    "            for j in range(len(ranking[i])):\n",
    "                doc_id = df_corpus.iloc[ranking[i][j]]['_id']\n",
    "                score = float(scores[i][j])\n",
    "                results[query_id][doc_id] = score\n",
    "    else:\n",
    "        with open(results_file, 'r') as f:\n",
    "            content = f.read()\n",
    "            results = json.loads(content)\n",
    "            \n",
    "    ndcg = {}\n",
    "    _map = {}\n",
    "    recall = {}\n",
    "    precision = {}\n",
    "\n",
    "    for k in k_vals:\n",
    "        ndcg[f\"NDCG@{k}\"] = 0.0\n",
    "        _map[f\"MAP@{k}\"] = 0.0\n",
    "        recall[f\"Recall@{k}\"] = 0.0\n",
    "        precision[f\"P@{k}\"] = 0.0\n",
    "\n",
    "    map_string = \"map_cut.\" + \",\".join([str(k) for k in k_vals])\n",
    "    ndcg_string = \"ndcg_cut.\" + \",\".join([str(k) for k in k_vals])\n",
    "    recall_string = \"recall.\" + \",\".join([str(k) for k in k_vals])\n",
    "    precision_string = \"P.\" + \",\".join([str(k) for k in k_vals])\n",
    "    evaluator = pytrec_eval.RelevanceEvaluator(qrels, {map_string, ndcg_string, recall_string, precision_string})\n",
    "    scores = evaluator.evaluate(results)\n",
    "    \n",
    "    for query_id in scores.keys():\n",
    "        for k in k_vals:\n",
    "            ndcg[f\"NDCG@{k}\"] += scores[query_id][\"ndcg_cut_\" + str(k)]\n",
    "            _map[f\"MAP@{k}\"] += scores[query_id][\"map_cut_\" + str(k)]\n",
    "            recall[f\"Recall@{k}\"] += scores[query_id][\"recall_\" + str(k)]\n",
    "            precision[f\"P@{k}\"] += scores[query_id][\"P_\"+ str(k)]\n",
    "\n",
    "    for k in k_vals:\n",
    "        ndcg[f\"NDCG@{k}\"] = round(ndcg[f\"NDCG@{k}\"]/len(scores), 5)\n",
    "        _map[f\"MAP@{k}\"] = round(_map[f\"MAP@{k}\"]/len(scores), 5)\n",
    "        recall[f\"Recall@{k}\"] = round(recall[f\"Recall@{k}\"]/len(scores), 5)\n",
    "        precision[f\"P@{k}\"] = round(precision[f\"P@{k}\"]/len(scores), 5)\n",
    "        \n",
    "    return ndcg, _map, recall, precision\n",
    "    \n",
    "\n",
    "def query_index(queries, num_docs, faiss_index, retriever_model, tokenizer, device='cuda:0'):\n",
    "    '''\n",
    "    Query FAISS index for given queries\n",
    "    Returns the ranking and dot product scores for top 'num_docs' documents for all queries\n",
    "    '''\n",
    "    \n",
    "    num_batches = math.ceil(len(queries)/batch_size)\n",
    "    ranking = []\n",
    "    scores = []\n",
    "\n",
    "    for i in tqdm(range(num_batches), ncols=80):\n",
    "        batch = queries[i*batch_size : (i+1)*batch_size]\n",
    "        q_projections = get_query_projections(batch, retriever_model, tokenizer, device)\n",
    "        D, I = faiss_index.search(q_projections, num_docs)\n",
    "        ranking.append(I)\n",
    "        scores.append(D)\n",
    "\n",
    "    ranking = np.array(ranking)\n",
    "    scores = np.array(scores)\n",
    "    ranking = np.concatenate(ranking, axis=0)\n",
    "    scores = np.concatenate(scores, axis=0)\n",
    "\n",
    "    return ranking, scores"
   ]
  },
  {
   "cell_type": "code",
   "execution_count": 17,
   "id": "b510d8e5",
   "metadata": {},
   "outputs": [],
   "source": [
    "def load_retriever_model(root_dir, retriever_model_name, encoder_model_name, variant='bert-based', device='cuda:0'):\n",
    "    '''\n",
    "    Loads retrieval model with specified training weights along with its tokenizer\n",
    "    '''\n",
    "    \n",
    "    tokenizer = AutoTokenizer.from_pretrained(encoder_model_name)\n",
    "    \n",
    "    if variant == 'bert-based':\n",
    "        retriever_model = RetrieverModelBertBased(encoder_model_name)\n",
    "    elif variant == 'distillbert-based':\n",
    "        retriever_model = RetrieverModelDistillBertBased(encoder_model_name)\n",
    "    elif variant == 'minilm-based':\n",
    "        retriever_model = RetrieverModelBertBased(encoder_model_name, encoder_output_dim=384)\n",
    "    elif variant == 'xlm-roberta-based':\n",
    "        retriever_model = RetrieverModelBertBased(encoder_model_name, encoder_output_dim=1024)\n",
    "    \n",
    "    retriever_model.to(device)\n",
    "    saved_checkpoint = torch.load(root_dir + retriever_model_name, map_location=device)\n",
    "    retriever_model.load_state_dict(saved_checkpoint['model'])\n",
    "    return tokenizer, retriever_model"
   ]
  },
  {
   "cell_type": "code",
   "execution_count": 18,
   "id": "d81c6d28",
   "metadata": {},
   "outputs": [],
   "source": [
    "def iap(ranking):\n",
    "    '''\n",
    "    Compute the 11 point IAP (Interpolated Average Precision) metric for a given ranking of a model\n",
    "    '''\n",
    "    \n",
    "    interactions ={}\n",
    "    qry_ids = list(df_test['query-id'].unique())\n",
    "    for qid in qry_ids:\n",
    "        if interactions.get(qid) is None:\n",
    "            interactions[qid] = {}\n",
    "        if interactions[qid].get('related_documents') is None:\n",
    "            interactions[qid]['related_documents'] = set()\n",
    "        for doc_id in list(df_test[df_test['query-id']==qid]['corpus-id']):\n",
    "            interactions[qid]['related_documents'].add(doc_id)\n",
    "    for i in range(len(ranking)):\n",
    "        qid = query_ids[i]\n",
    "        interactions[qid]['total_result'] = len(ranking[i])\n",
    "        for j in range(len(ranking[i])):\n",
    "            indx = ranking[i][j]\n",
    "            did = df_corpus.iloc[indx,0]\n",
    "            if did in interactions[qid]['related_documents']:\n",
    "                if interactions[qid].get('visited_documents') is None:\n",
    "                    interactions[qid]['visited_documents'] = []\n",
    "                interactions[qid]['visited_documents'].append(did)\n",
    "                if interactions[qid].get('visited_documents_orders') is None:\n",
    "                    interactions[qid]['visited_documents_orders'] = {}\n",
    "                interactions[qid]['visited_documents_orders'][did] = j+1 \n",
    "    for qry_id in interactions:\n",
    "        if interactions[qry_id].get('total_result') is None:\n",
    "            interactions[qry_id]['total_result'] =  '0'\n",
    "        if interactions[qry_id].get('visited_documents') is None:\n",
    "            interactions[qry_id]['visited_documents'] = []\n",
    "        if interactions[qry_id].get('visited_documents_orders') is None:\n",
    "            interactions[qry_id]['visited_documents_orders'] = {}\n",
    "    ir = effectiveness()\n",
    "    result = ir.iap(interactions)\n",
    "    return result"
   ]
  },
  {
   "cell_type": "markdown",
   "id": "f3efd999",
   "metadata": {},
   "source": [
    "## Evaluation of retriever_multi-qa-distilbert-dot-v1_bs_1024_epoch_10"
   ]
  },
  {
   "cell_type": "code",
   "execution_count": 15,
   "id": "f751c181",
   "metadata": {},
   "outputs": [],
   "source": [
    "batch_size = 1024\n",
    "device = 'cuda:1'\n",
    "root_dir = './models/'\n",
    "num_passages=1000"
   ]
  },
  {
   "cell_type": "code",
   "execution_count": 16,
   "id": "cc894ac2",
   "metadata": {},
   "outputs": [],
   "source": [
    "retriever_model_name = 'retriever_multi-qa-distilbert-dot-v1_bs_1024_epoch_10.pth'\n",
    "encoder_model_name = 'sentence-transformers/multi-qa-distilbert-dot-v1'\n",
    "index_name = f'{retriever_model_name[:-4]}_passage_index.dat'"
   ]
  },
  {
   "cell_type": "code",
   "execution_count": 17,
   "id": "cc71e7d5",
   "metadata": {},
   "outputs": [],
   "source": [
    "tokenizer, retriever_model = load_retriever_model(root_dir, retriever_model_name, encoder_model_name, variant='distillbert-based', device=device)"
   ]
  },
  {
   "cell_type": "code",
   "execution_count": 18,
   "id": "b5061624",
   "metadata": {},
   "outputs": [
    {
     "name": "stderr",
     "output_type": "stream",
     "text": [
      "100%|█████████████████████████████████████████████| 4/4 [00:08<00:00,  2.17s/it]\n"
     ]
    }
   ],
   "source": [
    "create_doc_memmap(list(df_corpus['text']), index_name, retriever_model, tokenizer, device)"
   ]
  },
  {
   "cell_type": "code",
   "execution_count": 19,
   "id": "6ed50330",
   "metadata": {},
   "outputs": [],
   "source": [
    "faiss_index = create_faiss_index_from_memmap(index_name, num_samples=len(df_corpus), device=int(device[-1]))"
   ]
  },
  {
   "cell_type": "code",
   "execution_count": 20,
   "id": "2144c943",
   "metadata": {},
   "outputs": [
    {
     "name": "stderr",
     "output_type": "stream",
     "text": [
      "100%|█████████████████████████████████████████████| 1/1 [00:00<00:00, 11.37it/s]\n"
     ]
    }
   ],
   "source": [
    "ranking, scores = query_index(queries, num_passages, faiss_index, retriever_model, tokenizer, device)"
   ]
  },
  {
   "cell_type": "code",
   "execution_count": 21,
   "id": "93e934ed",
   "metadata": {},
   "outputs": [],
   "source": [
    "metrics = evaluate(query_ids, ranking, scores, k_vals=[5,10,20,50,100,500,1000])"
   ]
  },
  {
   "cell_type": "code",
   "execution_count": 22,
   "id": "17dfafb8",
   "metadata": {
    "scrolled": false
   },
   "outputs": [
    {
     "data": {
      "text/plain": [
       "({'NDCG@5': 0.33017,\n",
       "  'NDCG@10': 0.32893,\n",
       "  'NDCG@20': 0.33253,\n",
       "  'NDCG@50': 0.34582,\n",
       "  'NDCG@100': 0.36988,\n",
       "  'NDCG@500': 0.43887,\n",
       "  'NDCG@1000': 0.47174},\n",
       " {'MAP@5': 0.0904,\n",
       "  'MAP@10': 0.12131,\n",
       "  'MAP@20': 0.15568,\n",
       "  'MAP@50': 0.19172,\n",
       "  'MAP@100': 0.20948,\n",
       "  'MAP@500': 0.2326,\n",
       "  'MAP@1000': 0.23751},\n",
       " {'Recall@5': 0.11079,\n",
       "  'Recall@10': 0.16581,\n",
       "  'Recall@20': 0.24496,\n",
       "  'Recall@50': 0.36649,\n",
       "  'Recall@100': 0.4586,\n",
       "  'Recall@500': 0.69507,\n",
       "  'Recall@1000': 0.80468},\n",
       " {'P@5': 0.31703,\n",
       "  'P@10': 0.28142,\n",
       "  'P@20': 0.2404,\n",
       "  'P@50': 0.16978,\n",
       "  'P@100': 0.12043,\n",
       "  'P@500': 0.04619,\n",
       "  'P@1000': 0.02866})"
      ]
     },
     "execution_count": 22,
     "metadata": {},
     "output_type": "execute_result"
    }
   ],
   "source": [
    "metrics"
   ]
  },
  {
   "cell_type": "code",
   "execution_count": 23,
   "id": "a0834584",
   "metadata": {},
   "outputs": [
    {
     "data": {
      "text/plain": [
       "{'0.0': 0.4837795272839093,\n",
       " '0.1': 0.41037159479907975,\n",
       " '0.2': 0.35671182366462534,\n",
       " '0.3': 0.31209975559095027,\n",
       " '0.4': 0.27255100780988106,\n",
       " '0.5': 0.2479158296126182,\n",
       " '0.6': 0.2001149433726388,\n",
       " '0.7': 0.16374598218850836,\n",
       " '0.8': 0.13939672137988016,\n",
       " '0.9': 0.10648139172006706,\n",
       " '1.0': 0.08026027689382095}"
      ]
     },
     "execution_count": 23,
     "metadata": {},
     "output_type": "execute_result"
    }
   ],
   "source": [
    "iap1 = iap(ranking)\n",
    "iap1"
   ]
  },
  {
   "cell_type": "markdown",
   "id": "f3d33e06",
   "metadata": {},
   "source": [
    "## Evaluation of retriever_distil-biobert_bs_1024_epoch_10.pth"
   ]
  },
  {
   "cell_type": "code",
   "execution_count": 24,
   "id": "6464e5a6",
   "metadata": {},
   "outputs": [],
   "source": [
    "batch_size = 1024\n",
    "device = 'cuda:1'\n",
    "root_dir = './models/'\n",
    "num_passages=1000"
   ]
  },
  {
   "cell_type": "code",
   "execution_count": 25,
   "id": "202080b2",
   "metadata": {},
   "outputs": [],
   "source": [
    "retriever_model_name = 'retriever_distil-biobert_bs_1024_epoch_10.pth'\n",
    "encoder_model_name = 'nlpie/distil-biobert'\n",
    "index_name = f'{retriever_model_name[:-4]}_passage_index.dat'"
   ]
  },
  {
   "cell_type": "code",
   "execution_count": 26,
   "id": "76a44c52",
   "metadata": {},
   "outputs": [
    {
     "name": "stderr",
     "output_type": "stream",
     "text": [
      "Some weights of the model checkpoint at nlpie/distil-biobert were not used when initializing BertModel: ['cls.predictions.decoder.weight', 'cls.predictions.decoder.bias', 'cls.predictions.transform.LayerNorm.weight', 'cls.predictions.transform.dense.weight', 'cls.predictions.bias', 'cls.predictions.transform.LayerNorm.bias', 'cls.predictions.transform.dense.bias']\n",
      "- This IS expected if you are initializing BertModel from the checkpoint of a model trained on another task or with another architecture (e.g. initializing a BertForSequenceClassification model from a BertForPreTraining model).\n",
      "- This IS NOT expected if you are initializing BertModel from the checkpoint of a model that you expect to be exactly identical (initializing a BertForSequenceClassification model from a BertForSequenceClassification model).\n",
      "Some weights of BertModel were not initialized from the model checkpoint at nlpie/distil-biobert and are newly initialized: ['bert.pooler.dense.bias', 'bert.pooler.dense.weight']\n",
      "You should probably TRAIN this model on a down-stream task to be able to use it for predictions and inference.\n"
     ]
    }
   ],
   "source": [
    "tokenizer, retriever_model = load_retriever_model(root_dir, retriever_model_name, encoder_model_name, variant='bert-based', device=device)"
   ]
  },
  {
   "cell_type": "code",
   "execution_count": 27,
   "id": "e4ff04d7",
   "metadata": {},
   "outputs": [
    {
     "name": "stderr",
     "output_type": "stream",
     "text": [
      "100%|█████████████████████████████████████████████| 4/4 [00:08<00:00,  2.21s/it]\n"
     ]
    }
   ],
   "source": [
    "create_doc_memmap(list(df_corpus['text']), index_name, retriever_model, tokenizer, device)"
   ]
  },
  {
   "cell_type": "code",
   "execution_count": 28,
   "id": "21d2b454",
   "metadata": {},
   "outputs": [],
   "source": [
    "faiss_index = create_faiss_index_from_memmap(index_name, num_samples=len(df_corpus), device=int(device[-1]))"
   ]
  },
  {
   "cell_type": "code",
   "execution_count": 29,
   "id": "de3e5f21",
   "metadata": {},
   "outputs": [
    {
     "name": "stderr",
     "output_type": "stream",
     "text": [
      "100%|█████████████████████████████████████████████| 1/1 [00:00<00:00, 11.37it/s]\n"
     ]
    }
   ],
   "source": [
    "ranking, scores = query_index(queries, num_passages, faiss_index, retriever_model, tokenizer, device)"
   ]
  },
  {
   "cell_type": "code",
   "execution_count": 30,
   "id": "a6a8cf9f",
   "metadata": {},
   "outputs": [],
   "source": [
    "metrics = evaluate(query_ids, ranking, scores, k_vals=[5,10,20,50,100,500,1000])"
   ]
  },
  {
   "cell_type": "code",
   "execution_count": 31,
   "id": "2f305d11",
   "metadata": {},
   "outputs": [
    {
     "data": {
      "text/plain": [
       "({'NDCG@5': 0.31242,\n",
       "  'NDCG@10': 0.30883,\n",
       "  'NDCG@20': 0.31789,\n",
       "  'NDCG@50': 0.33668,\n",
       "  'NDCG@100': 0.35906,\n",
       "  'NDCG@500': 0.42453,\n",
       "  'NDCG@1000': 0.45922},\n",
       " {'MAP@5': 0.0969,\n",
       "  'MAP@10': 0.12483,\n",
       "  'MAP@20': 0.15704,\n",
       "  'MAP@50': 0.19388,\n",
       "  'MAP@100': 0.21111,\n",
       "  'MAP@500': 0.23175,\n",
       "  'MAP@1000': 0.23695},\n",
       " {'Recall@5': 0.11014,\n",
       "  'Recall@10': 0.15392,\n",
       "  'Recall@20': 0.22897,\n",
       "  'Recall@50': 0.3584,\n",
       "  'Recall@100': 0.44752,\n",
       "  'Recall@500': 0.6707,\n",
       "  'Recall@1000': 0.7853},\n",
       " {'P@5': 0.2935,\n",
       "  'P@10': 0.26006,\n",
       "  'P@20': 0.22647,\n",
       "  'P@50': 0.16743,\n",
       "  'P@100': 0.11749,\n",
       "  'P@500': 0.04388,\n",
       "  'P@1000': 0.02804})"
      ]
     },
     "execution_count": 31,
     "metadata": {},
     "output_type": "execute_result"
    }
   ],
   "source": [
    "metrics"
   ]
  },
  {
   "cell_type": "code",
   "execution_count": 32,
   "id": "6100cd0e",
   "metadata": {},
   "outputs": [
    {
     "data": {
      "text/plain": [
       "{'0.0': 0.44736269117406535,\n",
       " '0.1': 0.3896811532388718,\n",
       " '0.2': 0.35103237506423984,\n",
       " '0.3': 0.3090454390043405,\n",
       " '0.4': 0.2717227062210693,\n",
       " '0.5': 0.24423132940765624,\n",
       " '0.6': 0.20825251301498934,\n",
       " '0.7': 0.1746679241799304,\n",
       " '0.8': 0.1485829092128042,\n",
       " '0.9': 0.11715889181839026,\n",
       " '1.0': 0.09734645442223297}"
      ]
     },
     "execution_count": 32,
     "metadata": {},
     "output_type": "execute_result"
    }
   ],
   "source": [
    "iap2 = iap(ranking)\n",
    "iap2"
   ]
  },
  {
   "cell_type": "markdown",
   "id": "844b834f",
   "metadata": {},
   "source": [
    "## Evaluation of retriever_multi-qa-MiniLM-L6-dot-v1_epochwise_bs_1024_epoch_10.pth"
   ]
  },
  {
   "cell_type": "code",
   "execution_count": 17,
   "id": "1887062a",
   "metadata": {},
   "outputs": [],
   "source": [
    "batch_size = 1024\n",
    "device = 'cuda:1'\n",
    "root_dir = './models/'\n",
    "num_passages=1000"
   ]
  },
  {
   "cell_type": "code",
   "execution_count": 18,
   "id": "10fb63b3",
   "metadata": {},
   "outputs": [],
   "source": [
    "retriever_model_name = 'retriever_multi-qa-MiniLM-L6-dot-v1_epochwise_bs_1024_epoch_10.pth'\n",
    "encoder_model_name = 'sentence-transformers/multi-qa-MiniLM-L6-dot-v1'\n",
    "index_name = f'{retriever_model_name[:-4]}_passage_index.dat'"
   ]
  },
  {
   "cell_type": "code",
   "execution_count": 19,
   "id": "fe1b2b73",
   "metadata": {},
   "outputs": [],
   "source": [
    "tokenizer, retriever_model = load_retriever_model(root_dir, retriever_model_name, encoder_model_name, variant='minilm-based', device=device)"
   ]
  },
  {
   "cell_type": "code",
   "execution_count": 20,
   "id": "447476e1",
   "metadata": {},
   "outputs": [
    {
     "name": "stderr",
     "output_type": "stream",
     "text": [
      "100%|█████████████████████████████████████████████| 4/4 [00:03<00:00,  1.07it/s]\n"
     ]
    }
   ],
   "source": [
    "create_doc_memmap(list(df_corpus['text']), index_name, retriever_model, tokenizer, device)"
   ]
  },
  {
   "cell_type": "code",
   "execution_count": 21,
   "id": "bd614f7f",
   "metadata": {},
   "outputs": [],
   "source": [
    "faiss_index = create_faiss_index_from_memmap(index_name, num_samples=len(df_corpus), device=int(device[-1]))"
   ]
  },
  {
   "cell_type": "code",
   "execution_count": 22,
   "id": "28c3a419",
   "metadata": {},
   "outputs": [
    {
     "name": "stderr",
     "output_type": "stream",
     "text": [
      "100%|█████████████████████████████████████████████| 1/1 [00:00<00:00, 29.19it/s]\n"
     ]
    }
   ],
   "source": [
    "ranking, scores = query_index(queries, num_passages, faiss_index, retriever_model, tokenizer, device)"
   ]
  },
  {
   "cell_type": "code",
   "execution_count": 23,
   "id": "1ab5aa0e",
   "metadata": {},
   "outputs": [],
   "source": [
    "metrics = evaluate(query_ids, ranking, scores, k_vals=[5,10,20,50,100,500,1000])"
   ]
  },
  {
   "cell_type": "code",
   "execution_count": 31,
   "id": "94163b93",
   "metadata": {},
   "outputs": [
    {
     "data": {
      "text/plain": [
       "({'NDCG@5': 0.29648,\n",
       "  'NDCG@10': 0.29445,\n",
       "  'NDCG@20': 0.29102,\n",
       "  'NDCG@50': 0.29697,\n",
       "  'NDCG@100': 0.31832,\n",
       "  'NDCG@500': 0.38948,\n",
       "  'NDCG@1000': 0.42654},\n",
       " {'MAP@5': 0.07678,\n",
       "  'MAP@10': 0.10609,\n",
       "  'MAP@20': 0.13347,\n",
       "  'MAP@50': 0.15878,\n",
       "  'MAP@100': 0.17424,\n",
       "  'MAP@500': 0.19402,\n",
       "  'MAP@1000': 0.19909},\n",
       " {'Recall@5': 0.09478,\n",
       "  'Recall@10': 0.14986,\n",
       "  'Recall@20': 0.20916,\n",
       "  'Recall@50': 0.29903,\n",
       "  'Recall@100': 0.38163,\n",
       "  'Recall@500': 0.6164,\n",
       "  'Recall@1000': 0.73972},\n",
       " {'P@5': 0.28483,\n",
       "  'P@10': 0.25356,\n",
       "  'P@20': 0.20728,\n",
       "  'P@50': 0.14396,\n",
       "  'P@100': 0.10387,\n",
       "  'P@500': 0.04171,\n",
       "  'P@1000': 0.02709})"
      ]
     },
     "execution_count": 31,
     "metadata": {},
     "output_type": "execute_result"
    }
   ],
   "source": [
    "metrics"
   ]
  },
  {
   "cell_type": "code",
   "execution_count": null,
   "id": "c64a982f",
   "metadata": {},
   "outputs": [],
   "source": []
  },
  {
   "cell_type": "markdown",
   "id": "56623423",
   "metadata": {},
   "source": [
    "## Evaluation of retriever_UMLSBert_ENG_bs_1024_epoch_10.pth (BEST model)"
   ]
  },
  {
   "cell_type": "code",
   "execution_count": 106,
   "id": "1695834c",
   "metadata": {},
   "outputs": [],
   "source": [
    "batch_size = 512\n",
    "device = 'cuda:1'\n",
    "root_dir = './models/'\n",
    "num_passages=1000"
   ]
  },
  {
   "cell_type": "code",
   "execution_count": 107,
   "id": "48bc4711",
   "metadata": {},
   "outputs": [],
   "source": [
    "retriever_model_name = 'retriever_UMLSBert_ENG_bs_1024_epoch_7.pth'\n",
    "encoder_model_name = 'GanjinZero/UMLSBert_ENG'\n",
    "index_name = f'{retriever_model_name[:-4]}_passage_index.dat'"
   ]
  },
  {
   "cell_type": "code",
   "execution_count": 108,
   "id": "81cab0a6",
   "metadata": {},
   "outputs": [],
   "source": [
    "tokenizer, retriever_model = load_retriever_model(root_dir, retriever_model_name, encoder_model_name, variant='bert-based', device=device)"
   ]
  },
  {
   "cell_type": "code",
   "execution_count": 109,
   "id": "479df707",
   "metadata": {},
   "outputs": [
    {
     "name": "stderr",
     "output_type": "stream",
     "text": [
      "100%|█████████████████████████████████████████████| 8/8 [00:16<00:00,  2.06s/it]\n"
     ]
    }
   ],
   "source": [
    "create_doc_memmap(list(df_corpus['text']), index_name, retriever_model, tokenizer, device)"
   ]
  },
  {
   "cell_type": "code",
   "execution_count": 110,
   "id": "835f345c",
   "metadata": {},
   "outputs": [],
   "source": [
    "faiss_index = create_faiss_index_from_memmap(index_name, num_samples=len(df_corpus), device=int(device[-1]))"
   ]
  },
  {
   "cell_type": "code",
   "execution_count": 111,
   "id": "780d4c7d",
   "metadata": {},
   "outputs": [
    {
     "name": "stderr",
     "output_type": "stream",
     "text": [
      "100%|█████████████████████████████████████████████| 1/1 [00:00<00:00,  5.68it/s]\n"
     ]
    }
   ],
   "source": [
    "ranking, scores = query_index(queries, num_passages, faiss_index, retriever_model, tokenizer, device)"
   ]
  },
  {
   "cell_type": "code",
   "execution_count": 112,
   "id": "e6355419",
   "metadata": {},
   "outputs": [],
   "source": [
    "metrics = evaluate(query_ids, ranking, scores, k_vals=[5,10,20,50,100,500,1000])"
   ]
  },
  {
   "cell_type": "code",
   "execution_count": 61,
   "id": "7a63b672",
   "metadata": {},
   "outputs": [
    {
     "data": {
      "text/plain": [
       "({'NDCG@5': 0.37474,\n",
       "  'NDCG@10': 0.37147,\n",
       "  'NDCG@20': 0.37808,\n",
       "  'NDCG@50': 0.39158,\n",
       "  'NDCG@100': 0.41183,\n",
       "  'NDCG@500': 0.4773,\n",
       "  'NDCG@1000': 0.50959},\n",
       " {'MAP@5': 0.12289,\n",
       "  'MAP@10': 0.15755,\n",
       "  'MAP@20': 0.19407,\n",
       "  'MAP@50': 0.23296,\n",
       "  'MAP@100': 0.25176,\n",
       "  'MAP@500': 0.275,\n",
       "  'MAP@1000': 0.2799},\n",
       " {'Recall@5': 0.13601,\n",
       "  'Recall@10': 0.19633,\n",
       "  'Recall@20': 0.28129,\n",
       "  'Recall@50': 0.4016,\n",
       "  'Recall@100': 0.49026,\n",
       "  'Recall@500': 0.71508,\n",
       "  'Recall@1000': 0.82356},\n",
       " {'P@5': 0.34489,\n",
       "  'P@10': 0.30062,\n",
       "  'P@20': 0.25511,\n",
       "  'P@50': 0.18099,\n",
       "  'P@100': 0.12622,\n",
       "  'P@500': 0.04692,\n",
       "  'P@1000': 0.02908})"
      ]
     },
     "execution_count": 61,
     "metadata": {},
     "output_type": "execute_result"
    }
   ],
   "source": [
    "# 10th epoch\n",
    "metrics"
   ]
  },
  {
   "cell_type": "code",
   "execution_count": 69,
   "id": "3fc2787d",
   "metadata": {},
   "outputs": [
    {
     "data": {
      "text/plain": [
       "({'NDCG@5': 0.38951,\n",
       "  'NDCG@10': 0.38266,\n",
       "  'NDCG@20': 0.37841,\n",
       "  'NDCG@50': 0.3823,\n",
       "  'NDCG@100': 0.40276,\n",
       "  'NDCG@500': 0.47018,\n",
       "  'NDCG@1000': 0.50132},\n",
       " {'MAP@5': 0.12297,\n",
       "  'MAP@10': 0.15671,\n",
       "  'MAP@20': 0.19267,\n",
       "  'MAP@50': 0.22617,\n",
       "  'MAP@100': 0.24376,\n",
       "  'MAP@500': 0.26639,\n",
       "  'MAP@1000': 0.27124},\n",
       " {'Recall@5': 0.13916,\n",
       "  'Recall@10': 0.19411,\n",
       "  'Recall@20': 0.27018,\n",
       "  'Recall@50': 0.38089,\n",
       "  'Recall@100': 0.46811,\n",
       "  'Recall@500': 0.70567,\n",
       "  'Recall@1000': 0.80496},\n",
       " {'P@5': 0.35851,\n",
       "  'P@10': 0.3096,\n",
       "  'P@20': 0.25248,\n",
       "  'P@50': 0.17214,\n",
       "  'P@100': 0.1208,\n",
       "  'P@500': 0.04534,\n",
       "  'P@1000': 0.02827})"
      ]
     },
     "execution_count": 69,
     "metadata": {},
     "output_type": "execute_result"
    }
   ],
   "source": [
    "# 7th epoch (Best Results)\n",
    "metrics"
   ]
  },
  {
   "cell_type": "code",
   "execution_count": 44,
   "id": "84bed79a",
   "metadata": {
    "scrolled": false
   },
   "outputs": [
    {
     "data": {
      "text/plain": [
       "({'NDCG@5': 0.38444,\n",
       "  'NDCG@10': 0.37897,\n",
       "  'NDCG@20': 0.37628,\n",
       "  'NDCG@50': 0.37389,\n",
       "  'NDCG@100': 0.39193,\n",
       "  'NDCG@500': 0.45882,\n",
       "  'NDCG@1000': 0.49416},\n",
       " {'MAP@5': 0.11868,\n",
       "  'MAP@10': 0.15489,\n",
       "  'MAP@20': 0.18953,\n",
       "  'MAP@50': 0.21985,\n",
       "  'MAP@100': 0.23532,\n",
       "  'MAP@500': 0.25697,\n",
       "  'MAP@1000': 0.26195},\n",
       " {'Recall@5': 0.13461,\n",
       "  'Recall@10': 0.19534,\n",
       "  'Recall@20': 0.26154,\n",
       "  'Recall@50': 0.35975,\n",
       "  'Recall@100': 0.44656,\n",
       "  'Recall@500': 0.67362,\n",
       "  'Recall@1000': 0.79565},\n",
       " {'P@5': 0.36099,\n",
       "  'P@10': 0.31084,\n",
       "  'P@20': 0.2548,\n",
       "  'P@50': 0.16638,\n",
       "  'P@100': 0.11446,\n",
       "  'P@500': 0.04426,\n",
       "  'P@1000': 0.02797})"
      ]
     },
     "execution_count": 44,
     "metadata": {},
     "output_type": "execute_result"
    }
   ],
   "source": [
    "# 3rd epoch\n",
    "metrics"
   ]
  },
  {
   "cell_type": "code",
   "execution_count": 45,
   "id": "d848a7bd",
   "metadata": {
    "scrolled": true
   },
   "outputs": [
    {
     "data": {
      "text/plain": [
       "{'0.0': 0.5380178877546796,\n",
       " '0.1': 0.45455656307410736,\n",
       " '0.2': 0.39173274187378615,\n",
       " '0.3': 0.33212432837276423,\n",
       " '0.4': 0.28886362296895546,\n",
       " '0.5': 0.2573548852440013,\n",
       " '0.6': 0.2126954727068552,\n",
       " '0.7': 0.18066990282859782,\n",
       " '0.8': 0.15788043334344898,\n",
       " '0.9': 0.12468779305342352,\n",
       " '1.0': 0.10153776460841234}"
      ]
     },
     "execution_count": 45,
     "metadata": {},
     "output_type": "execute_result"
    }
   ],
   "source": [
    "iap3 = iap(ranking)\n",
    "iap3"
   ]
  },
  {
   "cell_type": "code",
   "execution_count": null,
   "id": "2b98a74b",
   "metadata": {},
   "outputs": [],
   "source": []
  },
  {
   "cell_type": "markdown",
   "id": "2c945a13",
   "metadata": {},
   "source": [
    "## Evaluation of retriever_BiomedNLP-KRISSBERT-PubMed-UMLS-EL_bs_1024_epoch_10.pth"
   ]
  },
  {
   "cell_type": "code",
   "execution_count": 66,
   "id": "623d20c9",
   "metadata": {},
   "outputs": [],
   "source": [
    "batch_size = 512\n",
    "device = 'cuda:1'\n",
    "root_dir = './models/'\n",
    "num_passages=1000"
   ]
  },
  {
   "cell_type": "code",
   "execution_count": 67,
   "id": "781d68d1",
   "metadata": {},
   "outputs": [],
   "source": [
    "retriever_model_name = 'retriever_BiomedNLP-KRISSBERT-PubMed-UMLS-EL_bs_1024_epoch_10.pth'\n",
    "encoder_model_name = 'microsoft/BiomedNLP-KRISSBERT-PubMed-UMLS-EL'\n",
    "index_name = f'{retriever_model_name[:-4]}_passage_index.dat'"
   ]
  },
  {
   "cell_type": "code",
   "execution_count": 68,
   "id": "b40e1fb0",
   "metadata": {},
   "outputs": [],
   "source": [
    "tokenizer, retriever_model = load_retriever_model(root_dir, retriever_model_name, encoder_model_name, variant='bert-based', device=device)"
   ]
  },
  {
   "cell_type": "code",
   "execution_count": 69,
   "id": "0da9b27a",
   "metadata": {},
   "outputs": [
    {
     "name": "stderr",
     "output_type": "stream",
     "text": [
      "100%|█████████████████████████████████████████████| 8/8 [00:16<00:00,  2.06s/it]\n"
     ]
    }
   ],
   "source": [
    "create_doc_memmap(list(df_corpus['text']), index_name, retriever_model, tokenizer, device)"
   ]
  },
  {
   "cell_type": "code",
   "execution_count": 70,
   "id": "8734f92b",
   "metadata": {},
   "outputs": [],
   "source": [
    "faiss_index = create_faiss_index_from_memmap(index_name, num_samples=len(df_corpus), device=int(device[-1]))"
   ]
  },
  {
   "cell_type": "code",
   "execution_count": 71,
   "id": "4b4a8328",
   "metadata": {},
   "outputs": [
    {
     "name": "stderr",
     "output_type": "stream",
     "text": [
      "100%|█████████████████████████████████████████████| 1/1 [00:00<00:00,  5.81it/s]\n"
     ]
    }
   ],
   "source": [
    "ranking, scores = query_index(queries, num_passages, faiss_index, retriever_model, tokenizer, device)"
   ]
  },
  {
   "cell_type": "code",
   "execution_count": 72,
   "id": "c22834c3",
   "metadata": {},
   "outputs": [],
   "source": [
    "metrics = evaluate(query_ids, ranking, scores, k_vals=[5,10,20,50,100,500,1000])"
   ]
  },
  {
   "cell_type": "code",
   "execution_count": 73,
   "id": "a0503af6",
   "metadata": {},
   "outputs": [
    {
     "data": {
      "text/plain": [
       "({'NDCG@5': 0.3635,\n",
       "  'NDCG@10': 0.3581,\n",
       "  'NDCG@20': 0.36511,\n",
       "  'NDCG@50': 0.37143,\n",
       "  'NDCG@100': 0.39351,\n",
       "  'NDCG@500': 0.46166,\n",
       "  'NDCG@1000': 0.49472},\n",
       " {'MAP@5': 0.11552,\n",
       "  'MAP@10': 0.1492,\n",
       "  'MAP@20': 0.18717,\n",
       "  'MAP@50': 0.22518,\n",
       "  'MAP@100': 0.24399,\n",
       "  'MAP@500': 0.26619,\n",
       "  'MAP@1000': 0.27111},\n",
       " {'Recall@5': 0.13175,\n",
       "  'Recall@10': 0.1795,\n",
       "  'Recall@20': 0.25806,\n",
       "  'Recall@50': 0.36758,\n",
       "  'Recall@100': 0.46159,\n",
       "  'Recall@500': 0.70347,\n",
       "  'Recall@1000': 0.81359},\n",
       " {'P@5': 0.34613,\n",
       "  'P@10': 0.29969,\n",
       "  'P@20': 0.25867,\n",
       "  'P@50': 0.17715,\n",
       "  'P@100': 0.12421,\n",
       "  'P@500': 0.04588,\n",
       "  'P@1000': 0.0287})"
      ]
     },
     "execution_count": 73,
     "metadata": {},
     "output_type": "execute_result"
    }
   ],
   "source": [
    "# 10th epoch\n",
    "metrics"
   ]
  },
  {
   "cell_type": "code",
   "execution_count": null,
   "id": "8be4d003",
   "metadata": {},
   "outputs": [],
   "source": []
  },
  {
   "cell_type": "markdown",
   "id": "c5c891c2",
   "metadata": {},
   "source": [
    "## Interpolated Average Precision Plot for selected models"
   ]
  },
  {
   "cell_type": "code",
   "execution_count": 54,
   "id": "d52b559a",
   "metadata": {},
   "outputs": [
    {
     "data": {
      "image/png": "[encoded data removed]",
      "text/plain": [
       "<Figure size 640x480 with 1 Axes>"
      ]
     },
     "metadata": {},
     "output_type": "display_data"
    }
   ],
   "source": [
    "x1 = list(iap1.keys())\n",
    "x2 = list(iap2.keys())\n",
    "x3 = list(iap3.keys())\n",
    "y1 = list(iap1.values())\n",
    "y2 = list(iap2.values())\n",
    "y3 = list(iap3.values())\n",
    "plt.plot(x1, y1, 'r',label='Retrieval Model with DistilBERT Encoder')\n",
    "plt.plot(x2, y2, 'b',label='Retrieval Model with DistilBioBERT Encoder') \n",
    "plt.plot(x3, y3, 'g',label='Retrieval Model with UMLSBert_ENG Encoder')\n",
    "plt.legend()\n",
    "plt.grid(True)\n",
    "plt.xlabel('Recall')\n",
    "plt.ylabel('Precision')\n",
    "plt.savefig('iap.jpg')\n",
    "plt.show()"
   ]
  },
  {
   "cell_type": "code",
   "execution_count": null,
   "id": "3f2e1df3",
   "metadata": {},
   "outputs": [],
   "source": [
    "# END"
   ]
  }
 ],
 "metadata": {
  "kernelspec": {
   "display_name": "Python 3 (ipykernel)",
   "language": "python",
   "name": "python3"
  },
  "language_info": {
   "codemirror_mode": {
    "name": "ipython",
    "version": 3
   },
   "file_extension": ".py",
   "mimetype": "text/x-python",
   "name": "python",
   "nbconvert_exporter": "python",
   "pygments_lexer": "ipython3",
   "version": "3.8.10"
  }
 },
 "nbformat": 4,
 "nbformat_minor": 5
}
